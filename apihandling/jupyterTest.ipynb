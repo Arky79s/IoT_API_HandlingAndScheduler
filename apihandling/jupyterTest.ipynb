{
 "cells": [
  {
   "cell_type": "code",
   "execution_count": 6,
   "id": "bf097e1c",
   "metadata": {},
   "outputs": [],
   "source": [
    "\n",
    "\n",
    "Token='1A874ADD7035E34085566EFECBD1E2287FDECC5F9ADB68C1F0111666C0061B3B'\n",
    "\n",
    "uid='az1755843211193wXUkA'\n",
    "\n",
    "url_lst=['/gwapi/user/uid','/gwapi/home/list','/gwapi/home/device-list']\n",
    "\n",
    "\n",
    "flag_list=[ 'appid','uid','homeId']\n",
    "id_list={ flag_list[0]:'uid',flag_list[1]:'home_id',flag_list[2]:\"['values']['id']\"}\n",
    "\n",
    "\n",
    "\n"
   ]
  },
  {
   "cell_type": "code",
   "execution_count": 7,
   "id": "cd0101e8",
   "metadata": {},
   "outputs": [],
   "source": [
    "\n",
    "BASE_URL ='https://www.gocone.co.kr:5845'"
   ]
  },
  {
   "cell_type": "code",
   "execution_count": 8,
   "id": "396f3871",
   "metadata": {},
   "outputs": [
    {
     "data": {
      "text/plain": [
       "dict_keys(['appid', 'uid', 'homeId'])"
      ]
     },
     "execution_count": 8,
     "metadata": {},
     "output_type": "execute_result"
    }
   ],
   "source": [
    "id_list.keys()"
   ]
  },
  {
   "cell_type": "code",
   "execution_count": null,
   "id": "eb4fadc5",
   "metadata": {},
   "outputs": [],
   "source": [
    "\n",
    "for i in len(flag_list):\n",
    "    url = BASE_URL+url_lst[i]\n",
    "    id_kind=os.getenv(id_list[i])\n",
    "\n",
    "    acsToken=Token\n",
    "\n",
    "    payload={\n",
    "        \"appid\" :id_list[i],\n",
    "        \"acsToken\":acsToken\n",
    "    }\n",
    "\n",
    "    # 실제 요청\n",
    "    response = requests.get(url,headers=payload)\n",
    "\n",
    "    print(response)\n",
    "\n",
    "    # 응답 처리\n",
    "    if response.status_code == 200:\n",
    "        print(\"✅ 성공:\")\n",
    "        data=response.json()\n",
    "        resData=data['uid']\n",
    "        print(resData)\n",
    "    else:\n",
    "        print(\"❌ 실패:\")\n",
    "        print(response.status_code)\n",
    "        print(response.text)"
   ]
  },
  {
   "cell_type": "code",
   "execution_count": 16,
   "id": "efb153cf",
   "metadata": {},
   "outputs": [],
   "source": [
    "\n",
    "BASE_URL ='https://www.gocone.co.kr:5845'"
   ]
  },
  {
   "cell_type": "code",
   "execution_count": 17,
   "id": "e3327a00",
   "metadata": {},
   "outputs": [],
   "source": [
    "\n",
    "\n",
    "Token='1A874ADD7035E34085566EFECBD1E2287FDECC5F9ADB68C1F0111666C0061B3B'\n",
    "uid='az1755843211193wXUkA'\n",
    "\n",
    "urllst=['/gwapi/user/uid','/gwapi/home/list','/gwapi/home/device-list']\n",
    "\n",
    "id_list={ 'appid':'uid','uid':'home_id','homeId':\"['values']['id']\"}"
   ]
  },
  {
   "cell_type": "code",
   "execution_count": null,
   "id": "8295221c",
   "metadata": {},
   "outputs": [
    {
     "ename": "KeyError",
     "evalue": "0",
     "output_type": "error",
     "traceback": [
      "\u001b[31m---------------------------------------------------------------------------\u001b[39m",
      "\u001b[31mKeyError\u001b[39m                                  Traceback (most recent call last)",
      "\u001b[36mCell\u001b[39m\u001b[36m \u001b[39m\u001b[32mIn[15]\u001b[39m\u001b[32m, line 1\u001b[39m\n\u001b[32m----> \u001b[39m\u001b[32m1\u001b[39m id_list[\u001b[43mid_list\u001b[49m\u001b[43m[\u001b[49m\u001b[32;43m0\u001b[39;49m\u001b[43m]\u001b[49m]\n",
      "\u001b[31mKeyError\u001b[39m: 0"
     ]
    }
   ],
   "source": [
    "id_list[id_list[0].]"
   ]
  },
  {
   "cell_type": "code",
   "execution_count": 19,
   "id": "5c61230f",
   "metadata": {},
   "outputs": [
    {
     "ename": "ModuleNotFoundError",
     "evalue": "No module named 'dotenv'",
     "output_type": "error",
     "traceback": [
      "\u001b[31m---------------------------------------------------------------------------\u001b[39m",
      "\u001b[31mModuleNotFoundError\u001b[39m                       Traceback (most recent call last)",
      "\u001b[36mCell\u001b[39m\u001b[36m \u001b[39m\u001b[32mIn[19]\u001b[39m\u001b[32m, line 4\u001b[39m\n\u001b[32m      1\u001b[39m \u001b[38;5;28;01mimport\u001b[39;00m\u001b[38;5;250m \u001b[39m\u001b[34;01mos\u001b[39;00m\n\u001b[32m      2\u001b[39m \u001b[38;5;28;01mimport\u001b[39;00m\u001b[38;5;250m \u001b[39m\u001b[34;01mrequests\u001b[39;00m\n\u001b[32m----> \u001b[39m\u001b[32m4\u001b[39m \u001b[38;5;28;01mfrom\u001b[39;00m\u001b[38;5;250m \u001b[39m\u001b[34;01mdotenv\u001b[39;00m\u001b[38;5;250m \u001b[39m\u001b[38;5;28;01mimport\u001b[39;00m load_dotenv\n\u001b[32m      7\u001b[39m load_dotenv()\n",
      "\u001b[31mModuleNotFoundError\u001b[39m: No module named 'dotenv'"
     ]
    }
   ],
   "source": [
    "import os\n",
    "import requests\n",
    "\n",
    "from dotenv import load_dotenv\n",
    "\n",
    "\n",
    "load_dotenv()\n",
    "\n"
   ]
  },
  {
   "cell_type": "code",
   "execution_count": null,
   "id": "a07b4d6d",
   "metadata": {},
   "outputs": [
    {
     "ename": "NameError",
     "evalue": "name 'BAS_URL' is not defined",
     "output_type": "error",
     "traceback": [
      "\u001b[31m---------------------------------------------------------------------------\u001b[39m",
      "\u001b[31mNameError\u001b[39m                                 Traceback (most recent call last)",
      "\u001b[36mCell\u001b[39m\u001b[36m \u001b[39m\u001b[32mIn[18]\u001b[39m\u001b[32m, line 2\u001b[39m\n\u001b[32m      1\u001b[39m     \u001b[38;5;66;03m# 호출할 endpoint 예시\u001b[39;00m\n\u001b[32m----> \u001b[39m\u001b[32m2\u001b[39m url = \u001b[43mBAS_URL\u001b[49m+urllst[i]\n\u001b[32m      3\u001b[39m id_kind=os.getenv(id_list[i])\n\u001b[32m      4\u001b[39m acsToken=Token\n",
      "\u001b[31mNameError\u001b[39m: name 'BAS_URL' is not defined"
     ]
    }
   ],
   "source": [
    "\n",
    "url = BASE_URL+urllst[i]\n",
    "id_kind=os.getenv(id_list[i])\n",
    "acsToken=Token\n",
    "payload={\n",
    "    id_list[i].key() :id_kind,\n",
    "    \"acsToken\":acsToken\n",
    "}\n",
    "\n",
    "# 실제 요청\n",
    "\n",
    "response = requests.get(url,headers=payload)\n"
   ]
  },
  {
   "cell_type": "code",
   "execution_count": null,
   "id": "0b1ac916",
   "metadata": {},
   "outputs": [],
   "source": []
  }
 ],
 "metadata": {
  "kernelspec": {
   "display_name": "Python 3",
   "language": "python",
   "name": "python3"
  },
  "language_info": {
   "codemirror_mode": {
    "name": "ipython",
    "version": 3
   },
   "file_extension": ".py",
   "mimetype": "text/x-python",
   "name": "python",
   "nbconvert_exporter": "python",
   "pygments_lexer": "ipython3",
   "version": "3.13.7"
  }
 },
 "nbformat": 4,
 "nbformat_minor": 5
}
